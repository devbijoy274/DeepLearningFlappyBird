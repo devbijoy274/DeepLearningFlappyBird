{
  "nbformat": 4,
  "nbformat_minor": 0,
  "metadata": {
    "colab": {
      "name": "\"Hello world!\" in MachineLearning",
      "version": "0.3.2",
      "provenance": [],
      "collapsed_sections": [],
      "toc_visible": true,
      "include_colab_link": true
    },
    "kernelspec": {
      "display_name": "Python 3",
      "name": "python3"
    }
  },
  "cells": [
    {
      "cell_type": "markdown",
      "metadata": {
        "id": "view-in-github",
        "colab_type": "text"
      },
      "source": [
        "[View in Colaboratory](https://colab.research.google.com/github/devbijoy274/DeepLearningFlappyBird/blob/master/%22Hello_world!%22_in_MachineLearning.ipynb)"
      ]
    },
    {
      "metadata": {
        "id": "9J7p406abzgl",
        "colab_type": "text"
      },
      "cell_type": "markdown",
      "source": [
        "<img height=\"60px\" src=\"https://colab.research.google.com/img/colab_favicon.ico\" align=\"left\" hspace=\"20px\" vspace=\"5px\">\n",
        "\n",
        "<h1>My \"Hello World!\" in Machine Learning !</h1>\n",
        "This is a basic handwritting gesturing project, this will walk through basics of ML and regression. For more project, find my other projects on Github!"
      ]
    },
    {
      "metadata": {
        "id": "98112G383ckf",
        "colab_type": "code",
        "colab": {
          "base_uri": "https://localhost:8080/",
          "height": 323
        },
        "outputId": "60c05bd0-1e61-4d5d-d8ca-af63b76dace4"
      },
      "cell_type": "code",
      "source": [
        "# Tensorflow and tf.keras\n",
        "import tensorflow as tf\n",
        "from tensorflow import keras\n",
        "print(\"TF Version: \", tf.__version__)\n",
        "print(\"Keras: \",keras.__version__)\n",
        "\n",
        "# Helper Libraries\n",
        "import numpy as np\n",
        "import matplotlib.pyplot as plt\n",
        "\n",
        "hand_written_mnist = keras.datasets.mnist\n",
        "\n",
        "(train_images, train_labels), (test_images, test_labels) = hand_written_mnist.load_data()\n",
        "\n",
        "print(\"Train_Images\", train_images.shape)\n",
        "print(\"Test_Images\", test_images.shape)\n",
        "'''\n",
        "plt.figure()\n",
        "plt.imshow(train_images[69])\n",
        "plt.colorbar()\n",
        "plt.grid(False)\n",
        "'''\n",
        "\n",
        "train_images = train_images / 255.0\n",
        "test_images = test_images / 255.0\n",
        "class_names = [\"one\",\"two\",\"three\",\"four\",\"five\",\"six\",\"seven\",\"eight\",\"nine\",\"ten\"]\n",
        "\n",
        "plt.figure(figsize=(10,10))\n",
        "'''for i in range(25):\n",
        "  plt.subplot(5,5,i+1)\n",
        "  plt.xticks([])\n",
        "  plt.yticks([])\n",
        "  plt.grid(False)\n",
        "  plt.imshow(train_images[i], cmap=plt.cm.binary)\n",
        "  plt.xlabel(class_names[train_labels[i]])\n",
        "''' \n",
        "model = keras.Sequential([\n",
        "    keras.layers.Flatten(input_shape=(28,28)),\n",
        "    keras.layers.Dense(128, activation=tf.nn.relu),\n",
        "    keras.layers.Dense(10, activation=tf.nn.softmax)\n",
        "])\n",
        "\n",
        "model.compile(optimizer=tf.train.AdamOptimizer(),\n",
        "             loss='sparse_categorical_crossentropy',\n",
        "             metrics=['accuracy'])\n",
        "\n",
        "model.fit(train_images, train_labels, epochs=5)\n",
        "\n",
        "test_loss, test_acc = model.evaluate(test_images, test_labels)\n",
        "print(\"Test loss\",test_loss)\n",
        "print(\"Test accuracy\",test_acc)"
      ],
      "execution_count": 7,
      "outputs": [
        {
          "output_type": "stream",
          "text": [
            "TF Version:  1.10.0\n",
            "Keras:  2.1.6-tf\n",
            "Train_Images (60000, 28, 28)\n",
            "Test_Images (10000, 28, 28)\n",
            "Epoch 1/5\n",
            "60000/60000 [==============================] - 5s 84us/step - loss: 0.2594 - acc: 0.9248\n",
            "Epoch 2/5\n",
            "60000/60000 [==============================] - 4s 72us/step - loss: 0.1141 - acc: 0.9659\n",
            "Epoch 3/5\n",
            "60000/60000 [==============================] - 4s 71us/step - loss: 0.0779 - acc: 0.9759\n",
            "Epoch 4/5\n",
            "60000/60000 [==============================] - 4s 71us/step - loss: 0.0576 - acc: 0.9824\n",
            "Epoch 5/5\n",
            "60000/60000 [==============================] - 4s 71us/step - loss: 0.0444 - acc: 0.9860\n",
            "10000/10000 [==============================] - 0s 35us/step\n",
            "Test loss 0.0767225777224172\n",
            "Test accuracy 0.9753\n"
          ],
          "name": "stdout"
        },
        {
          "output_type": "display_data",
          "data": {
            "text/plain": [
              "<matplotlib.figure.Figure at 0x7f90b40df5f8>"
            ]
          },
          "metadata": {
            "tags": []
          }
        }
      ]
    }
  ]
}